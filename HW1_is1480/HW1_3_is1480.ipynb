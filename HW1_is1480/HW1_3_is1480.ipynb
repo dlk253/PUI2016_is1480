{
 "cells": [
  {
   "cell_type": "code",
   "execution_count": 2,
   "metadata": {
    "collapsed": true
   },
   "outputs": [],
   "source": [
    "from __future__ import print_function\n",
    "__author__ = \"Federica B. Bianco, CUSP NYU 2016\""
   ]
  },
  {
   "cell_type": "markdown",
   "metadata": {},
   "source": [
    "# Create a <i>reproducible research</i> chunk of code\n",
    "\n",
    "That means we want the reader to be able to reproduce every step of the work we do. \n",
    "\n",
    "If our work includes the use of stochastic processes and random variables that gets tricky: how do we assure the random draw gives the same number to the user that it gave to me? That is not random! \n",
    "\n",
    "That becomes possible because computers are unable to poduce truly random numbers. When we ask a computer to generate a random number, it will in fact generate a \"pseudo random\" number. The number will be randon in the sanse that it will be some number between, for example, 0 and 1 if we ask for a **uniform random distribution** or a number near 0 if we aks for a **Gaussian distribution with mean 0**. <i> But the sequence of pseudo-random numbers that a compujter generates will depend on its **seed**: if you know the seed you know all the numbers that are \"randomely\" drawn</i>.  \n",
    "\n",
    "You can read more about pseudorandom number generation in this wikipedia article https://en.wikipedia.org/wiki/Pseudorandom_number_generator\n",
    "\n",
    "Fill in the empty cells below with code, as directed."
   ]
  },
  {
   "cell_type": "code",
   "execution_count": 1,
   "metadata": {
    "collapsed": true
   },
   "outputs": [],
   "source": [
    "import os\n",
    "import sys\n",
    "\n",
    "# you can use the numpy library for random number generation: \n",
    "# http://docs.scipy.org/doc/numpy/reference/routines.random.html\n",
    "\n",
    "import numpy as np"
   ]
  },
  {
   "cell_type": "markdown",
   "metadata": {},
   "source": [
    "## THIS IS THE MOST IMPORTANT PIECE OF THIS CODE! \n",
    "### give numpy as seed for this code to be reproducible \n",
    "(no points if this is wrong)\n",
    "\n",
    "http://docs.scipy.org/doc/numpy/reference/generated/numpy.random.seed.html"
   ]
  },
  {
   "cell_type": "code",
   "execution_count": 1,
   "metadata": {
    "collapsed": true
   },
   "outputs": [],
   "source": [
    "np.random.seed(0)"
   ]
  },
  {
   "cell_type": "markdown",
   "metadata": {},
   "source": [
    "### 1. Generate random distributions. use the function \n",
    "http://docs.scipy.org/doc/numpy/reference/generated/numpy.random.randn.html\n",
    "### to generate 100 2-dimensional random datapoints in a gaussian distribution \n",
    "\n",
    "call the array ReprRand\n"
   ]
  },
  {
   "cell_type": "code",
   "execution_count": 3,
   "metadata": {
    "collapsed": true
   },
   "outputs": [],
   "source": [
    "ReprRand = np.random.randn(2,100)"
   ]
  },
  {
   "cell_type": "markdown",
   "metadata": {},
   "source": [
    "#### if you did this correctly the shape of ReprRand will be (2, 100)\n"
   ]
  },
  {
   "cell_type": "code",
   "execution_count": 4,
   "metadata": {
    "collapsed": false
   },
   "outputs": [
    {
     "data": {
      "text/plain": [
       "(2, 100)"
      ]
     },
     "execution_count": 4,
     "metadata": {},
     "output_type": "execute_result"
    }
   ],
   "source": [
    "# run this cell\n",
    "ReprRand.shape"
   ]
  },
  {
   "cell_type": "markdown",
   "metadata": {},
   "source": [
    "## 2. use the same function to generate 50 more random 2x100 numpy arrays and store them in ReprRandAll, all with different mean.\n",
    "\n",
    "np.random.randn creates a distribution with mean 0 and standard deviation 1 by default.\n",
    "\n",
    "To obtain a gaussian distribution with a mean different than 1 using np.random.randn you must add your new mean (it is explained in the dunction documentation for which I already gave you the link)\n",
    "\n",
    "If you want to change the standard deviation (sigma) as well you multiply the distribution by the new sigma.\n",
    "\n",
    "You can do it in a for loop. The first line of code I included generates an array of zeros that you can fill in with your new numbers. \n",
    "\n",
    "\n"
   ]
  },
  {
   "cell_type": "code",
   "execution_count": 11,
   "metadata": {
    "collapsed": false
   },
   "outputs": [
    {
     "name": "stdout",
     "output_type": "stream",
     "text": [
      "[[ -3.34646145e-01   4.08664352e-01   1.26532380e+00   1.57000218e+00\n",
      "   -1.24483663e-01   1.95827777e-01   1.32605742e+00   1.12764736e+00\n",
      "    6.07429419e-01   4.36308634e-01   8.68132968e-01   9.16890007e-01\n",
      "    2.26490583e+00   1.08082823e+00  -7.29100090e-03   4.39739114e-02\n",
      "    2.25540708e+00   1.35027590e+00   2.02534086e+00   2.10852802e+00\n",
      "    1.83146804e+00   1.40129994e+00   2.31228738e+00   7.94641803e-01\n",
      "    1.10099233e+00   1.31135736e+00  -3.82266484e-02   3.71326240e+00\n",
      "    5.56405315e-01   1.26540851e+00   1.59180193e+00  -4.35614452e-01\n",
      "    5.06174132e-01   7.44490966e-01   6.70029848e-01   1.18572839e+00\n",
      "    2.55961371e+00   7.43884904e-01   2.11650477e+00  -3.69880816e-02\n",
      "    1.52430619e+00   2.29912214e+00   4.71672690e-01   1.22674671e+00\n",
      "    8.20278085e-03   9.72573498e-01   1.83094090e+00   1.61099355e+00\n",
      "    1.54902586e+00   1.59914086e+00   5.31486662e-01   4.42082794e-01\n",
      "    2.62666003e-01   1.13009445e+00   2.29466702e+00   4.91431867e-01\n",
      "    1.08733346e+00   8.74886273e-01   1.97387809e+00   2.19343915e+00\n",
      "    9.91218353e-01  -4.87281816e-01   2.42724130e+00   1.62455660e+00\n",
      "   -4.94089697e-01   1.75365927e+00   6.23820498e-01   7.00673252e-01\n",
      "    1.40615895e+00   2.03152288e+00   9.10938945e-01   2.11968810e+00\n",
      "    1.71989998e+00   1.04036761e+00   8.10322641e-01   1.60210539e-01\n",
      "    2.39453555e+00   1.18941826e+00   8.34643870e-01  -5.05616649e-01\n",
      "   -3.56935764e-01   4.75327993e-01   1.90577548e+00   2.78241288e+00\n",
      "    2.16781440e+00   1.22515122e+00   1.16703654e+00   2.05261199e-01\n",
      "    1.12595851e+00   1.37776305e+00   2.17563233e+00   2.23630786e+00\n",
      "    2.24836541e+00   1.79264569e+00   1.10493861e-01   1.61912919e+00\n",
      "    1.41587538e+00   2.38380610e+00   7.97267935e-01   1.60325928e+00]\n",
      " [  1.54071067e+00   9.32130748e-01   5.96583644e-01   6.77018065e-01\n",
      "    3.07673045e+00   1.05481285e+00  -2.94267200e-01   1.29430737e+00\n",
      "   -2.97696997e-01   3.41332226e+00   1.95737721e-02  -9.87187771e-02\n",
      "    8.43942084e-01   1.02760200e+00   2.19230934e+00   1.63588959e+00\n",
      "    1.25281818e+00   7.84836983e-01  -3.25444567e-01   7.64150718e-01\n",
      "    1.13929820e+00   7.50478441e-01   8.60343505e-01   1.78147350e+00\n",
      "    2.32317472e+00   1.13930160e+00   1.04021147e+00   9.46317496e-01\n",
      "    1.46089101e+00   7.17630811e-01   6.77482436e-01   2.93847422e+00\n",
      "   -1.15640100e-01   7.48127178e-01   3.41247514e+00   6.65650724e-01\n",
      "    3.30837809e+00   2.35045781e+00   1.89280871e+00   9.92264352e-01\n",
      "    1.77736453e+00   6.70985646e-01   1.68980046e+00   1.01555784e+00\n",
      "    1.01421830e+00  -9.49920499e-02   2.64429117e-01   2.11385272e+00\n",
      "    2.57569810e-01   9.44566866e-01   1.44037496e+00   6.48076192e-01\n",
      "    1.88116271e-03   1.61375275e+00   7.43950234e-01   1.47732003e+00\n",
      "    7.58837922e-01   1.30750046e+00   3.07428045e+00   1.62421177e+00\n",
      "    3.39961519e+00  -1.16726171e+00   8.24999053e-01  -1.07268505e+00\n",
      "   -1.96057170e-01  -6.07890264e-03   1.02150335e+00   7.97000875e-01\n",
      "   -1.26917723e+00   2.45164589e-01   1.49463607e+00   2.55568694e+00\n",
      "    6.88013668e-01   6.80785343e-01  -3.12467594e-01  -4.92918722e-03\n",
      "   -1.07581086e+00   2.12608176e+00   7.42833996e-01   7.88095334e-01\n",
      "    1.73739326e+00   2.39216844e+00  -8.02121017e-02   2.94893644e+00\n",
      "    2.94322610e-01   1.88065789e+00   8.08370708e-01   1.79987937e+00\n",
      "    8.94828305e-01   2.82497952e-01  -5.60341503e-01   1.85963569e+00\n",
      "    2.28432670e+00   2.74263882e+00  -4.08997099e-01  -4.11752954e-01\n",
      "   -1.65309132e-01   1.68396537e-01  -3.91823513e-02  -2.15330078e-01]]\n"
     ]
    }
   ],
   "source": [
    "ReprRandAll = np.zeros((50, 2, 100))\n",
    "for i in range(50):\n",
    "    ReprRandAll[i] = np.random.randn(2, 100) + np.random.randn()    "
   ]
  },
  {
   "cell_type": "code",
   "execution_count": 12,
   "metadata": {
    "collapsed": false
   },
   "outputs": [
    {
     "data": {
      "text/plain": [
       "(50, 2, 100)"
      ]
     },
     "execution_count": 12,
     "metadata": {},
     "output_type": "execute_result"
    }
   ],
   "source": [
    "# run this cell\n",
    "ReprRandAll.shape"
   ]
  },
  {
   "cell_type": "markdown",
   "metadata": {},
   "source": [
    "## 3. now plot them: \n",
    "\n",
    "you can use the matplotlib library, and the function scatter(), but that would plot everything in the same color unless you ask it not to. For convenience, let's use the function plot() which by default plots lines, and tell it to plot points (in addition plot is actually more efficient, so if you have a large dataset you may want to consider using plot with points for it anyways)\n",
    "\n",
    "https://scipy-lectures.github.io/intro/matplotlib/matplotlib.html#scatter-plots\n",
    "\n",
    "http://matplotlib.org/users/pyplot_tutorial.html\n"
   ]
  },
  {
   "cell_type": "code",
   "execution_count": 21,
   "metadata": {
    "collapsed": false
   },
   "outputs": [
    {
     "name": "stdout",
     "output_type": "stream",
     "text": [
      "Populating the interactive namespace from numpy and matplotlib\n",
      "0.769706225396\n",
      "-0.685943667454\n"
     ]
    },
    {
     "data": {
      "image/png": "[encoded data removed]",
      "text/plain": [
       "<matplotlib.figure.Figure at 0x10a0996d8>"
      ]
     },
     "metadata": {},
     "output_type": "display_data"
    }
   ],
   "source": [
    "import pylab as pl\n",
    "%pylab inline\n",
    "# the last line of code makes the plot show up within the notebook. \n",
    "# Always include it so that your homework notebooks are rendered and we can see\n",
    "# what you wanted your results to be. \n",
    "\n",
    "# code here\n",
    "print(ReprRandAll[0][0][0])\n",
    "print(ReprRandAll[0][1][0])\n",
    "# pl.plot(ReprRandAll[0][0][0], ReprRandAll[0][1][0], 'ro')\n",
    "for j in range(50):\n",
    "    for i in range(100):\n",
    "        pl.plot(ReprRandAll[j][0][i], ReprRandAll[j][1][i], 'ro')"
   ]
  },
  {
   "cell_type": "markdown",
   "metadata": {},
   "source": [
    "Always add a caption to each of your homework figures. \n",
    "And remember to give your labels some names! \n",
    "This is a general rule. Without the caption or axis labels this portion of the HW will not get points. Make sure the font in the labels is large enough to be readable.  \n",
    "\n",
    "## Figure 1: \n",
    "\n",
    "[write a caption here]"
   ]
  },
  {
   "cell_type": "markdown",
   "metadata": {},
   "source": [
    "## Challenge\n",
    "\n",
    "It is easier to give the same mean and standard deviation to each dimension. Can you give two different values for the mean along the x- and the mean along the y- axis for each of the 50 distributions if you have not done so? If you are an experienced coder, can you do it in a single line?\n",
    "\n",
    "\n"
   ]
  },
  {
   "cell_type": "code",
   "execution_count": 4,
   "metadata": {
    "collapsed": true
   },
   "outputs": [],
   "source": [
    "# code here..."
   ]
  },
  {
   "cell_type": "code",
   "execution_count": 2,
   "metadata": {
    "collapsed": true
   },
   "outputs": [],
   "source": [
    "# plot here..."
   ]
  },
  {
   "cell_type": "code",
   "execution_count": null,
   "metadata": {
    "collapsed": true
   },
   "outputs": [],
   "source": []
  }
 ],
 "metadata": {
  "anaconda-cloud": {},
  "kernelspec": {
   "display_name": "Python [Root]",
   "language": "python",
   "name": "Python [Root]"
  },
  "language_info": {
   "codemirror_mode": {
    "name": "ipython",
    "version": 3
   },
   "file_extension": ".py",
   "mimetype": "text/x-python",
   "name": "python",
   "nbconvert_exporter": "python",
   "pygments_lexer": "ipython3",
   "version": "3.5.2"
  }
 },
 "nbformat": 4,
 "nbformat_minor": 0
}
