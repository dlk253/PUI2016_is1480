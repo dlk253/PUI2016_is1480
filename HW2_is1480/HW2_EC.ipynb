{
 "cells": [
  {
   "cell_type": "code",
   "execution_count": 12,
   "metadata": {
    "collapsed": false
   },
   "outputs": [
    {
     "name": "stdout",
     "output_type": "stream",
     "text": [
      "/gws/open/NYCOpenData/nycopendata/data\n"
     ]
    }
   ],
   "source": [
    "import os\n",
    "print os.getenv(\"DFDATA\")\n",
    "import pandas as pd"
   ]
  },
  {
   "cell_type": "code",
   "execution_count": 40,
   "metadata": {
    "collapsed": false
   },
   "outputs": [
    {
     "name": "stdout",
     "output_type": "stream",
     "text": [
      "      Site                    Date  Turbidity(NTU) at 12AM  \\\n",
      "0  DEL18DT  05/10/2015 12:00:00 AM                     NaN   \n",
      "1  DEL18DT  05/11/2015 12:00:00 AM                     1.0   \n",
      "2  DEL18DT  05/12/2015 12:00:00 AM                     1.1   \n",
      "3  DEL18DT  05/13/2015 12:00:00 AM                     0.9   \n",
      "4  DEL18DT  05/14/2015 12:00:00 AM                     1.1   \n",
      "\n",
      "   Turbidity(NTU) at 4AM  Turbidity(NTU) at 8AM  Turbidity(NTU) at 12PM  \\\n",
      "0                    1.0                   0.95                    0.95   \n",
      "1                    1.1                   0.95                    1.00   \n",
      "2                    1.1                   1.10                    0.90   \n",
      "3                    1.1                   0.95                    0.90   \n",
      "4                    1.0                   1.00                    0.95   \n",
      "\n",
      "   Turbidity(NTU) at 4PM  Turbidity(NTU) at 8PM  Average 24hrTurbidity(NTU)  \\\n",
      "0                   1.00                   1.00                        0.98   \n",
      "1                   1.10                   1.10                        1.04   \n",
      "2                   0.95                   1.10                        1.04   \n",
      "3                   1.00                   0.95                        0.97   \n",
      "4                   0.95                   0.95                        0.99   \n",
      "\n",
      "  Coliform, Fecal(fc/100mL)  \n",
      "0                        <1  \n",
      "1                        <1  \n",
      "2                         1  \n",
      "3                         1  \n",
      "4                        <1  \n"
     ]
    }
   ],
   "source": [
    "dfData = os.getenv(\"DFDATA\")\n",
    "\n",
    "# location of building oil usage data in data facility\n",
    "dataLoc = dfData + \"/y43c-5n92/1437487031/y43c-5n92\"\n",
    "\n",
    "data = pd.read_csv(dataLoc)\n",
    "# data = DataFrame(data)\n",
    "print data.head()"
   ]
  },
  {
   "cell_type": "code",
   "execution_count": 67,
   "metadata": {
    "collapsed": false
   },
   "outputs": [
    {
     "name": "stdout",
     "output_type": "stream",
     "text": [
      "        Date  Average 24hrTurbidity(NTU)\n",
      "0 2015-05-10                        0.98\n",
      "1 2015-05-11                        1.04\n",
      "2 2015-05-12                        1.04\n",
      "3 2015-05-13                        0.97\n",
      "4 2015-05-14                        0.99\n"
     ]
    }
   ],
   "source": [
    "data = data[['Date','Average 24hrTurbidity(NTU)']]\n",
    "print data.head()"
   ]
  },
  {
   "cell_type": "code",
   "execution_count": 48,
   "metadata": {
    "collapsed": false
   },
   "outputs": [
    {
     "name": "stdout",
     "output_type": "stream",
     "text": [
      "        Date  Average 24hrTurbidity(NTU)\n",
      "0 2015-05-10                        0.98\n",
      "1 2015-05-11                        1.04\n",
      "2 2015-05-12                        1.04\n",
      "3 2015-05-13                        0.97\n",
      "4 2015-05-14                        0.99\n"
     ]
    },
    {
     "data": {
      "text/plain": [
       "pandas.core.series.Series"
      ]
     },
     "execution_count": 48,
     "metadata": {},
     "output_type": "execute_result"
    }
   ],
   "source": [
    "from datetime import datetime\n",
    "\n",
    "data['Date'] = pd.to_datetime(data['Date'])\n",
    "print data.head()"
   ]
  },
  {
   "cell_type": "code",
   "execution_count": 69,
   "metadata": {
    "collapsed": false
   },
   "outputs": [
    {
     "name": "stdout",
     "output_type": "stream",
     "text": [
      "Populating the interactive namespace from numpy and matplotlib\n"
     ]
    },
    {
     "data": {
      "text/plain": [
       "<matplotlib.text.Text at 0x7fbc18f988d0>"
      ]
     },
     "execution_count": 69,
     "metadata": {},
     "output_type": "execute_result"
    },
    {
     "data": {
      "image/png": "[encoded data removed]",
      "text/plain": [
       "<matplotlib.figure.Figure at 0x7fbc18f6d410>"
      ]
     },
     "metadata": {},
     "output_type": "display_data"
    }
   ],
   "source": [
    "import pylab as pl\n",
    "%pylab inline\n",
    "\n",
    "data.plot(x='Date', y='Average 24hrTurbidity(NTU)', rot=90, legend=None)\n",
    "pl.title('Average 24 Hour Turbidity')\n",
    "pl.ylabel('Turbidity (NTU)')"
   ]
  },
  {
   "cell_type": "code",
   "execution_count": null,
   "metadata": {
    "collapsed": true
   },
   "outputs": [],
   "source": []
  }
 ],
 "metadata": {
  "kernelspec": {
   "display_name": "PUI2016_Python2",
   "language": "python",
   "name": "pui2016_python2"
  },
  "language_info": {
   "codemirror_mode": {
    "name": "ipython",
    "version": 2
   },
   "file_extension": ".py",
   "mimetype": "text/x-python",
   "name": "python",
   "nbconvert_exporter": "python",
   "pygments_lexer": "ipython2",
   "version": "2.7.12"
  }
 },
 "nbformat": 4,
 "nbformat_minor": 0
}
